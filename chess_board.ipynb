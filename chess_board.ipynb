{
 "metadata": {
  "language_info": {
   "codemirror_mode": {
    "name": "ipython",
    "version": 3
   },
   "file_extension": ".py",
   "mimetype": "text/x-python",
   "name": "python",
   "nbconvert_exporter": "python",
   "pygments_lexer": "ipython3",
   "version": "3.9.4"
  },
  "orig_nbformat": 2,
  "kernelspec": {
   "name": "python394jvsc74a57bd07d6993cb2f9ce9a59d5d7380609d9cb5192a9dedd2735a011418ad9e827eb538",
   "display_name": "Python 3.9.4 64-bit"
  },
  "metadata": {
   "interpreter": {
    "hash": "7d6993cb2f9ce9a59d5d7380609d9cb5192a9dedd2735a011418ad9e827eb538"
   }
  }
 },
 "nbformat": 4,
 "nbformat_minor": 2,
 "cells": [
  {
   "source": [
    "import numpy as np \n",
    "import matplotlib.pyplot as plt\n",
    "# import matplotlib.image as mpimg\n",
    "\n",
    "class ChessBoard :\n",
    "\n",
    " def render(self ,red:list, blue:list):\n",
    "     self.add_red(red)\n",
    "     self.add_blue(blue)\n",
    "     plt.imshow(self.grid)\n",
    "     result = self.is_under_attack(red,blue)\n",
    "     if result == True:\n",
    "         print(\"red is underattack\")\n",
    "     else:\n",
    "         print(\"red is safe\")\n",
    "\n",
    "\n",
    "     \n",
    "\n",
    "\n",
    "\n",
    "\n",
    " def is_under_attack(self,red,blue):\n",
    "   if red[0] == blue[0] or red[1] == blue[1] or self.is_diagonal(red,blue):\n",
    "       return True\n",
    "\n",
    " def add_red(self,red):\n",
    "     self.grid[red[0],red[1]] = [1,0,0]\n",
    " def add_blue(self,blue):\n",
    "     self.grid[blue[0],blue[1]] = [0,0,1]\n",
    " def is_diagonal(self,point1,point2):\n",
    "  \"\"\"\n",
    "  given coordinates for 2 points a and b\n",
    "  determine if they are diagonals\n",
    "  \"\"\"\n",
    "  dx = abs(point1[0] - point2[0])\n",
    "  dy = abs(point1[1] - point2[1])\n",
    "  return dx == dy\n",
    " def __init__(self) :\n",
    "        self.grid = np.zeros((8,8,3))\n",
    "        for i in range(8):\n",
    "            for j in range(8):\n",
    "                if (i%2 == 0 and j%2 == 0) or (i%2 == 1 and j%2 == 1):\n",
    "                    self.grid[i,j]= [1,1,1]\n",
    "\n",
    "\n",
    "chessBoard  = ChessBoard()\n",
    "chessBoard.render([4,5],[2,5])"
   ],
   "cell_type": "code",
   "metadata": {},
   "execution_count": 3,
   "outputs": [
    {
     "output_type": "error",
     "ename": "ModuleNotFoundError",
     "evalue": "No module named 'numpy'",
     "traceback": [
      "\u001b[0;31m---------------------------------------------------------------------------\u001b[0m",
      "\u001b[0;31mModuleNotFoundError\u001b[0m                       Traceback (most recent call last)",
      "\u001b[0;32m<ipython-input-3-fefe24b6dad3>\u001b[0m in \u001b[0;36m<module>\u001b[0;34m\u001b[0m\n\u001b[0;32m----> 1\u001b[0;31m \u001b[0;32mimport\u001b[0m \u001b[0mnumpy\u001b[0m \u001b[0;32mas\u001b[0m \u001b[0mnp\u001b[0m\u001b[0;34m\u001b[0m\u001b[0;34m\u001b[0m\u001b[0m\n\u001b[0m\u001b[1;32m      2\u001b[0m \u001b[0;32mimport\u001b[0m \u001b[0mmatplotlib\u001b[0m\u001b[0;34m.\u001b[0m\u001b[0mpyplot\u001b[0m \u001b[0;32mas\u001b[0m \u001b[0mplt\u001b[0m\u001b[0;34m\u001b[0m\u001b[0;34m\u001b[0m\u001b[0m\n\u001b[1;32m      3\u001b[0m \u001b[0;31m# import matplotlib.image as mpimg\u001b[0m\u001b[0;34m\u001b[0m\u001b[0;34m\u001b[0m\u001b[0;34m\u001b[0m\u001b[0m\n\u001b[1;32m      4\u001b[0m \u001b[0;34m\u001b[0m\u001b[0m\n\u001b[1;32m      5\u001b[0m \u001b[0;32mclass\u001b[0m \u001b[0mChessBoard\u001b[0m \u001b[0;34m:\u001b[0m\u001b[0;34m\u001b[0m\u001b[0;34m\u001b[0m\u001b[0m\n",
      "\u001b[0;31mModuleNotFoundError\u001b[0m: No module named 'numpy'"
     ]
    }
   ]
  },
  {
   "cell_type": "code",
   "execution_count": null,
   "metadata": {},
   "outputs": [],
   "source": []
  }
 ]
}